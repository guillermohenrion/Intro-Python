{
  "nbformat": 4,
  "nbformat_minor": 0,
  "metadata": {
    "anaconda-cloud": {},
    "kernelspec": {
      "display_name": "Python [conda env:BayesP3]",
      "language": "python",
      "name": "conda-env-BayesP3-py"
    },
    "language_info": {
      "codemirror_mode": {
        "name": "ipython",
        "version": 3
      },
      "file_extension": ".py",
      "mimetype": "text/x-python",
      "name": "python",
      "nbconvert_exporter": "python",
      "pygments_lexer": "ipython3",
      "version": "3.6.6"
    },
    "colab": {
      "name": "1. Numeros y listas.ipynb",
      "provenance": [],
      "collapsed_sections": [],
      "include_colab_link": true
    }
  },
  "cells": [
    {
      "cell_type": "markdown",
      "metadata": {
        "id": "view-in-github",
        "colab_type": "text"
      },
      "source": [
        "<a href=\"https://colab.research.google.com/github/guillermohenrion/Intro-Python/blob/master/1_Numeros_y_listas.ipynb\" target=\"_parent\"><img src=\"https://colab.research.google.com/assets/colab-badge.svg\" alt=\"Open In Colab\"/></a>"
      ]
    },
    {
      "cell_type": "markdown",
      "metadata": {
        "id": "O1IKHj6U0Loh",
        "colab_type": "text"
      },
      "source": [
        "# Números enteros y flotantes\n",
        "\n",
        "Con los números se pueden realizar los siguientes tipos de operaciones:\n",
        "\n",
        "| Operación | Resultado       |\n",
        "| --------- | --------------- |\n",
        "|    +      | Suma            |\n",
        "|    -      | Resta           |\n",
        "|    *      | Multiplicación  |\n",
        "|    /      | División        |\n",
        "|    //     | División entera |\n",
        "|    \\*\\*   | Potencia        |\n",
        "\n",
        "Algunos sencillos ejemplos son:"
      ]
    },
    {
      "cell_type": "code",
      "metadata": {
        "id": "uvatt8OJ0Loj",
        "colab_type": "code",
        "outputId": "ddec5741-6b68-41cc-f42b-35cfb27550bb",
        "colab": {}
      },
      "source": [
        "2**5"
      ],
      "execution_count": 0,
      "outputs": [
        {
          "output_type": "execute_result",
          "data": {
            "text/plain": [
              "32"
            ]
          },
          "metadata": {
            "tags": []
          },
          "execution_count": 1
        }
      ]
    },
    {
      "cell_type": "code",
      "metadata": {
        "id": "TNt2_AMF0Lom",
        "colab_type": "code",
        "outputId": "bede54bc-1b8a-45c5-ddd0-1545c5af4497",
        "colab": {}
      },
      "source": [
        "3/2"
      ],
      "execution_count": 0,
      "outputs": [
        {
          "output_type": "execute_result",
          "data": {
            "text/plain": [
              "1.5"
            ]
          },
          "metadata": {
            "tags": []
          },
          "execution_count": 2
        }
      ]
    },
    {
      "cell_type": "code",
      "metadata": {
        "id": "gad9Zcdy0Lop",
        "colab_type": "code",
        "outputId": "77a382bf-b85f-492d-acb8-1f618b674b14",
        "colab": {}
      },
      "source": [
        "3./2"
      ],
      "execution_count": 0,
      "outputs": [
        {
          "output_type": "execute_result",
          "data": {
            "text/plain": [
              "1.5"
            ]
          },
          "metadata": {
            "tags": []
          },
          "execution_count": 3
        }
      ]
    },
    {
      "cell_type": "code",
      "metadata": {
        "id": "2zrh26-T0Lor",
        "colab_type": "code",
        "outputId": "2ce15860-2b61-4a5d-b88e-0674470a5e70",
        "colab": {}
      },
      "source": [
        "3.//2"
      ],
      "execution_count": 0,
      "outputs": [
        {
          "output_type": "execute_result",
          "data": {
            "text/plain": [
              "1.0"
            ]
          },
          "metadata": {
            "tags": []
          },
          "execution_count": 4
        }
      ]
    },
    {
      "cell_type": "code",
      "metadata": {
        "id": "SWHx9T1O0Lou",
        "colab_type": "code",
        "outputId": "8aa40421-9145-465e-8715-b6e00aa79537",
        "colab": {}
      },
      "source": [
        "2//3"
      ],
      "execution_count": 0,
      "outputs": [
        {
          "output_type": "execute_result",
          "data": {
            "text/plain": [
              "0"
            ]
          },
          "metadata": {
            "tags": []
          },
          "execution_count": 5
        }
      ]
    },
    {
      "cell_type": "markdown",
      "metadata": {
        "id": "GMfsfbY00Lox",
        "colab_type": "text"
      },
      "source": [
        "# Listas\n",
        "\n",
        "Las listas son arreglos de datos. Se definen con corchetes, y pueden contener datos de distintos tipos (números enteros y flotantes, o también los tipos que veremos más abajo). Un ejemplo de una lista en Python es:"
      ]
    },
    {
      "cell_type": "code",
      "metadata": {
        "id": "iokhrw9M0Loy",
        "colab_type": "code",
        "colab": {}
      },
      "source": [
        "li = [-5, 7, 4, 9, 1, 12, 2]"
      ],
      "execution_count": 0,
      "outputs": []
    },
    {
      "cell_type": "code",
      "metadata": {
        "id": "I0ozmL7f0Lo1",
        "colab_type": "code",
        "outputId": "bafb2845-fdf3-43b4-a83e-7ac7a2c52f98",
        "colab": {}
      },
      "source": [
        "li"
      ],
      "execution_count": 0,
      "outputs": [
        {
          "output_type": "execute_result",
          "data": {
            "text/plain": [
              "[-5, 7, 4, 9, 1, 12, 2]"
            ]
          },
          "metadata": {
            "tags": []
          },
          "execution_count": 7
        }
      ]
    },
    {
      "cell_type": "markdown",
      "metadata": {
        "id": "F6LuWMO80Lo3",
        "colab_type": "text"
      },
      "source": [
        "La operación más importante que se hace con las listas es la extracción de sus elementos en distintas posiciones. Es muy importante tener en cuenta que las listas en Python siempre empiezan con el índice `0`, como los arreglos de C y C++."
      ]
    },
    {
      "cell_type": "code",
      "metadata": {
        "id": "t6HQShPy0Lo3",
        "colab_type": "code",
        "outputId": "0a10bb02-be94-44cc-d1cd-f533001277ec",
        "colab": {}
      },
      "source": [
        "li[0]"
      ],
      "execution_count": 0,
      "outputs": [
        {
          "output_type": "execute_result",
          "data": {
            "text/plain": [
              "-5"
            ]
          },
          "metadata": {
            "tags": []
          },
          "execution_count": 6
        }
      ]
    },
    {
      "cell_type": "code",
      "metadata": {
        "id": "sTbJMgdY0Lo6",
        "colab_type": "code",
        "outputId": "b19208cf-a1e0-41c4-e15d-0ec31b5d9a43",
        "colab": {}
      },
      "source": [
        "li[3]"
      ],
      "execution_count": 0,
      "outputs": [
        {
          "output_type": "execute_result",
          "data": {
            "text/plain": [
              "9"
            ]
          },
          "metadata": {
            "tags": []
          },
          "execution_count": 7
        }
      ]
    },
    {
      "cell_type": "markdown",
      "metadata": {
        "id": "JUDjC6IS0Lo8",
        "colab_type": "text"
      },
      "source": [
        "Lo bueno de las listas en Python es que si usamos un índice más grande que `n-1`, donde `n` es el total de elementos, Python nos da un error (en lugar de retornar basura de la memoria, como en C o C++)"
      ]
    },
    {
      "cell_type": "code",
      "metadata": {
        "id": "3ioki2wU0Lo8",
        "colab_type": "code",
        "outputId": "e668295b-c521-4c41-fef6-c3fec1286b4d",
        "colab": {}
      },
      "source": [
        "li[20]"
      ],
      "execution_count": 0,
      "outputs": [
        {
          "output_type": "error",
          "ename": "IndexError",
          "evalue": "list index out of range",
          "traceback": [
            "\u001b[1;31m---------------------------------------------------------------------------\u001b[0m",
            "\u001b[1;31mIndexError\u001b[0m                                Traceback (most recent call last)",
            "\u001b[1;32m<ipython-input-8-0a252909fc48>\u001b[0m in \u001b[0;36m<module>\u001b[1;34m()\u001b[0m\n\u001b[1;32m----> 1\u001b[1;33m \u001b[0mli\u001b[0m\u001b[1;33m[\u001b[0m\u001b[1;36m20\u001b[0m\u001b[1;33m]\u001b[0m\u001b[1;33m\u001b[0m\u001b[0m\n\u001b[0m",
            "\u001b[1;31mIndexError\u001b[0m: list index out of range"
          ]
        }
      ]
    },
    {
      "cell_type": "markdown",
      "metadata": {
        "id": "IPt2jSCn0Lo-",
        "colab_type": "text"
      },
      "source": [
        "Las listas son modificables, es decir, que sus elementos pueden modificarse de acuerdo a la siguiente sintaxis:"
      ]
    },
    {
      "cell_type": "code",
      "metadata": {
        "id": "Q5sebl450Lo_",
        "colab_type": "code",
        "outputId": "ad6932ad-30c5-4737-b02a-729d57612860",
        "colab": {}
      },
      "source": [
        "li[0] = -100\n",
        "li"
      ],
      "execution_count": 0,
      "outputs": [
        {
          "output_type": "execute_result",
          "data": {
            "text/plain": [
              "[-100, 7, 4, 9, 1, 12, 2]"
            ]
          },
          "metadata": {
            "tags": []
          },
          "execution_count": 9
        }
      ]
    },
    {
      "cell_type": "markdown",
      "metadata": {
        "id": "cV2OFCbb0LpB",
        "colab_type": "text"
      },
      "source": [
        "Además pueden seleccionarse fácilmente subconjuntos de una lista, usando lo que se conoce como *rebanado* (o *slicing* en inglés), que consiste en usar dos índices separados por `:` al momento de tomar elementos de la lista. Al hacerlo, Python toma los elementos que van desde el primer índice hasta uno menos del último. Veamos un par de ejemplos:"
      ]
    },
    {
      "cell_type": "code",
      "metadata": {
        "id": "Lk9IRAkz0LpC",
        "colab_type": "code",
        "outputId": "787a29c4-8647-4021-840d-a9083d28109d",
        "colab": {}
      },
      "source": [
        "li[1:3]"
      ],
      "execution_count": 0,
      "outputs": [
        {
          "output_type": "execute_result",
          "data": {
            "text/plain": [
              "[7, 4]"
            ]
          },
          "metadata": {
            "tags": []
          },
          "execution_count": 10
        }
      ]
    },
    {
      "cell_type": "code",
      "metadata": {
        "id": "d5x3Fpd80LpE",
        "colab_type": "code",
        "outputId": "2c284a0b-2626-4c5b-830f-0df6f1d20afb",
        "colab": {}
      },
      "source": [
        "li[2:6]"
      ],
      "execution_count": 0,
      "outputs": [
        {
          "output_type": "execute_result",
          "data": {
            "text/plain": [
              "[4, 9, 1, 12]"
            ]
          },
          "metadata": {
            "tags": []
          },
          "execution_count": 11
        }
      ]
    },
    {
      "cell_type": "markdown",
      "metadata": {
        "id": "9iIibopP0LpG",
        "colab_type": "text"
      },
      "source": [
        "El rebanado también funciona si se usa un sólo índice, bien sea el superior o el inferior, siempre que vaya acompañado de los `:`. En estos casos se obtiene el resultado que uno esperaría, es decir, que se tome desde el índice que uno quiera hasta el final:"
      ]
    },
    {
      "cell_type": "code",
      "metadata": {
        "id": "ROcWmbp50LpG",
        "colab_type": "code",
        "outputId": "232d007b-32f6-493e-b02b-406a547b0a64",
        "colab": {}
      },
      "source": [
        "li[2:]"
      ],
      "execution_count": 0,
      "outputs": [
        {
          "output_type": "execute_result",
          "data": {
            "text/plain": [
              "[4, 9, 1, 12, 2]"
            ]
          },
          "metadata": {
            "tags": []
          },
          "execution_count": 12
        }
      ]
    },
    {
      "cell_type": "markdown",
      "metadata": {
        "id": "WpGQtdcY0LpK",
        "colab_type": "text"
      },
      "source": [
        "o lo opuesto: que la selección vaya desde el principio hasta un índice menos que el que se use como último:"
      ]
    },
    {
      "cell_type": "code",
      "metadata": {
        "id": "q83MI5FV0LpK",
        "colab_type": "code",
        "outputId": "d42867d3-c7ce-4f67-8a7a-4cfdb0a3ed73",
        "colab": {}
      },
      "source": [
        "li[:4]"
      ],
      "execution_count": 0,
      "outputs": [
        {
          "output_type": "execute_result",
          "data": {
            "text/plain": [
              "[-100, 7, 4, 9]"
            ]
          },
          "metadata": {
            "tags": []
          },
          "execution_count": 13
        }
      ]
    },
    {
      "cell_type": "markdown",
      "metadata": {
        "id": "00_ygu_w0LpM",
        "colab_type": "text"
      },
      "source": [
        "También es importante mencionar que la selección de elementos y el rebanado funcionan con índices negativos, así:"
      ]
    },
    {
      "cell_type": "code",
      "metadata": {
        "id": "lwbdgRaO0LpN",
        "colab_type": "code",
        "outputId": "4d771fd4-e09b-4cac-adc7-b5a862745a53",
        "colab": {}
      },
      "source": [
        "li"
      ],
      "execution_count": 0,
      "outputs": [
        {
          "output_type": "execute_result",
          "data": {
            "text/plain": [
              "[-100, 7, 4, 9, 1, 12, 2]"
            ]
          },
          "metadata": {
            "tags": []
          },
          "execution_count": 14
        }
      ]
    },
    {
      "cell_type": "code",
      "metadata": {
        "id": "xmxCN_H30LpP",
        "colab_type": "code",
        "outputId": "a803635a-cefc-427a-cf56-6bf00eda2c07",
        "colab": {}
      },
      "source": [
        "li[-1]"
      ],
      "execution_count": 0,
      "outputs": [
        {
          "output_type": "execute_result",
          "data": {
            "text/plain": [
              "2"
            ]
          },
          "metadata": {
            "tags": []
          },
          "execution_count": 15
        }
      ]
    },
    {
      "cell_type": "code",
      "metadata": {
        "id": "X4-j57Rz0LpR",
        "colab_type": "code",
        "outputId": "ed1fa0b8-189d-426a-d93d-9da7aacf2fe5",
        "colab": {}
      },
      "source": [
        "li[-3:]"
      ],
      "execution_count": 0,
      "outputs": [
        {
          "output_type": "execute_result",
          "data": {
            "text/plain": [
              "[1, 12, 2]"
            ]
          },
          "metadata": {
            "tags": []
          },
          "execution_count": 16
        }
      ]
    },
    {
      "cell_type": "markdown",
      "metadata": {
        "id": "zcyV-uPa0LpT",
        "colab_type": "text"
      },
      "source": [
        "Finalmente cabe decir que se pueden usar las operaciones aritméticas + para concatenar dos listas, y * para repetir varias veces los elementos de una lista, así:"
      ]
    },
    {
      "cell_type": "code",
      "metadata": {
        "id": "kaiD2lIK0LpT",
        "colab_type": "code",
        "outputId": "71267933-d110-4305-be6a-f19d1649d787",
        "colab": {}
      },
      "source": [
        " [0, 4, 7] + [2, 3]"
      ],
      "execution_count": 0,
      "outputs": [
        {
          "output_type": "execute_result",
          "data": {
            "text/plain": [
              "[0, 4, 7, 2, 3]"
            ]
          },
          "metadata": {
            "tags": []
          },
          "execution_count": 9
        }
      ]
    },
    {
      "cell_type": "code",
      "metadata": {
        "id": "ife6oMmH0LpV",
        "colab_type": "code",
        "outputId": "ffb156f4-ce14-4804-b3b5-b6d9698ba24a",
        "colab": {}
      },
      "source": [
        "[0] * 4"
      ],
      "execution_count": 0,
      "outputs": [
        {
          "output_type": "execute_result",
          "data": {
            "text/plain": [
              "[0, 0, 0, 0]"
            ]
          },
          "metadata": {
            "tags": []
          },
          "execution_count": 12
        }
      ]
    },
    {
      "cell_type": "markdown",
      "metadata": {
        "id": "Ln7wwnSE0LpX",
        "colab_type": "text"
      },
      "source": [
        "## Problemas"
      ]
    },
    {
      "cell_type": "markdown",
      "metadata": {
        "id": "0telMEJf0LpX",
        "colab_type": "text"
      },
      "source": [
        "### Problema 1\n",
        "\n",
        "Construir una lista que tenga `100` repeticiones de los números `-1`, `0` y `1`, en ese orden exacto."
      ]
    },
    {
      "cell_type": "code",
      "metadata": {
        "id": "YEuMI7vD0LpX",
        "colab_type": "code",
        "colab": {}
      },
      "source": [
        ""
      ],
      "execution_count": 0,
      "outputs": []
    },
    {
      "cell_type": "markdown",
      "metadata": {
        "id": "jPccSXH90LpZ",
        "colab_type": "text"
      },
      "source": [
        "### Problema 2\n",
        "\n",
        "Construir una lista que tenga un `1` rodeado de dos listas, cada una con `20` ceros."
      ]
    },
    {
      "cell_type": "code",
      "metadata": {
        "id": "HdpG5iio0LpZ",
        "colab_type": "code",
        "colab": {}
      },
      "source": [
        "# Escribir la solución aquí\n"
      ],
      "execution_count": 0,
      "outputs": []
    },
    {
      "cell_type": "markdown",
      "metadata": {
        "id": "IVYdhUie0Lpb",
        "colab_type": "text"
      },
      "source": [
        "### Problema 3\n",
        "\n",
        "Calcular el promedio de la siguiente lista:"
      ]
    },
    {
      "cell_type": "code",
      "metadata": {
        "id": "DW65UXQv0Lpc",
        "colab_type": "code",
        "colab": {}
      },
      "source": [
        "li = [3, 18, 17, 44, 14, 12, 29, 19, 4, 6, 17, 7, 14, 6, 8, 17, 17, 21, 65,\\\n",
        "      19, 10, 31, 92, 17, 5, 15, 3, 14, 20, 12, 29, 57, 15, 2, 17, 1, 6, 17, 2,\\\n",
        "      71, 12, 11, 62, 14, 9, 20, 43, 19, 4, 15,5]"
      ],
      "execution_count": 0,
      "outputs": []
    },
    {
      "cell_type": "markdown",
      "metadata": {
        "id": "ivBqAS6o0Lpe",
        "colab_type": "text"
      },
      "source": [
        "*Respuesta*:\n",
        "\n",
        "    19.75\n",
        "\n",
        "**Nota**: Usar el comando `sum(li)` para obtener la suma de los elementos de la lista, y el comando `len(li)` para obtener cuantos elementos tiene."
      ]
    },
    {
      "cell_type": "code",
      "metadata": {
        "id": "BqWHLtvP0Lpe",
        "colab_type": "code",
        "colab": {}
      },
      "source": [
        ""
      ],
      "execution_count": 0,
      "outputs": []
    },
    {
      "cell_type": "markdown",
      "metadata": {
        "id": "X-bTkIBy0Lpg",
        "colab_type": "text"
      },
      "source": [
        "### Problema 4\n",
        "\n",
        "La media móvil es un concepto usado en economía para tratar de observar si existe una tendencia al alza o a la baja en los precios de las acciones de una empresa. Para ello, lo que hace es crear una serie de promedios de distintos subconjuntos del conjunto de datos original.\n",
        "\n",
        "Por ejemplo, si en siete días las acciones de una empresa tuvieron los siguientes precios:\n",
        "\n",
        "    Precios: 11, 12, 13, 14, 15, 16, 17\n",
        "\n",
        "Podemos calcular la media móvil, en periodos de cinco días, de la siguiente forma:\n",
        "\n",
        "    Primera media móvil de 5 días: (11 + 12 + 13 + 14 + 15) / 5 = 13\n",
        "\n",
        "    Segunda media móvil de 5 días: (12 + 13 + 14 + 15 + 16) / 5 = 14\n",
        "\n",
        "    Tercera media móvil de 5 días: (13 + 14 + 15 + 16 + 17) / 5 = 15\n",
        "\n",
        "Con esta descripción, encontrar de la cuarta, séptima y décima medias móviles, en periodos de 10 días, para los siguientes precios de las acciones de Intel registrados entre el 24 de Marzo y el 5 de Mayo de 2010:"
      ]
    },
    {
      "cell_type": "code",
      "metadata": {
        "id": "XusJcc9M0Lpg",
        "colab_type": "code",
        "colab": {}
      },
      "source": [
        "intel = [22.27, 22.19, 22.08, 22.17, 22.18, 22.13, 22.23, 22.43, 22.24,\\\n",
        "         22.29, 22.15, 22.39, 22.38, 22.61, 23.36, 24.05, 23.75, 23.83, 23.95,\\\n",
        "         23.63, 23.82, 23.87, 23.65, 23.19, 23.10, 23.33, 22.68, 23.10, 22.40,\\\n",
        "         22.17]"
      ],
      "execution_count": 0,
      "outputs": []
    },
    {
      "cell_type": "markdown",
      "metadata": {
        "id": "9ZfmCRax0Lpi",
        "colab_type": "text"
      },
      "source": [
        "*Respuesta*:\n",
        "\n",
        "    22.259, 22.613, 23.076\n",
        "    \n",
        "**Nota**: Utilizar las operaciones de rebanado descritas arriba."
      ]
    },
    {
      "cell_type": "code",
      "metadata": {
        "id": "cX3sncY90Lpj",
        "colab_type": "code",
        "colab": {}
      },
      "source": [
        "# Escribir la solución aquí\n"
      ],
      "execution_count": 0,
      "outputs": []
    },
    {
      "cell_type": "markdown",
      "metadata": {
        "id": "L58WgO5u0Lpl",
        "colab_type": "text"
      },
      "source": [
        "### Problema 5\n",
        "\n",
        "Calcular la mediana de la lista del tercer ejercicio, i.e. de la lista `li`. Recordar que para calcular la mediana hay que organizar los datos de menor a mayor y después utilizar la fórmula:\n",
        "\n",
        "$\\tilde{x}=\n",
        " \\begin{cases}\n",
        " x_{\\frac{n+1}{2}}\\quad, & \\textrm{si n es impar}\\\\\n",
        " \\frac{1}{2}\\left(x_{\\frac{n}{2}}+x_{\\frac{n}{2}+1}\\right)\\quad, & \\textrm{si\n",
        " n es par}\n",
        " \\end{cases}\n",
        "$\n",
        "\n",
        "donde *n* es el número de elementos de la lista."
      ]
    },
    {
      "cell_type": "code",
      "metadata": {
        "id": "RDw8jPAq0Lpl",
        "colab_type": "code",
        "colab": {}
      },
      "source": [
        "# Escribir la solución aquí\n"
      ],
      "execution_count": 0,
      "outputs": []
    },
    {
      "cell_type": "markdown",
      "metadata": {
        "id": "KWT7bl1e0Lpn",
        "colab_type": "text"
      },
      "source": [
        " *Respuesta*:\n",
        "\n",
        "      15.0\n",
        "     \n",
        "**Notas**:\n",
        "\n",
        "1. Usar el comando ``sorted(li)`` para organizar los elementos de la lista de menor a mayor.\n",
        "2. Utilizar división entera en operaciones como $\\frac{n}{2}$, al momento de tomar los elementos correspondientes de `li`."
      ]
    }
  ]
}