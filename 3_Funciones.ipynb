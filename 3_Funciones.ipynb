{
  "nbformat": 4,
  "nbformat_minor": 0,
  "metadata": {
    "anaconda-cloud": {},
    "kernelspec": {
      "display_name": "Python [conda env:BayesP2]",
      "language": "python",
      "name": "conda-env-BayesP2-py"
    },
    "language_info": {
      "codemirror_mode": {
        "name": "ipython",
        "version": 2
      },
      "file_extension": ".py",
      "mimetype": "text/x-python",
      "name": "python",
      "nbconvert_exporter": "python",
      "pygments_lexer": "ipython2",
      "version": "2.7.15"
    },
    "colab": {
      "name": "3. Funciones.ipynb",
      "provenance": [],
      "collapsed_sections": [],
      "include_colab_link": true
    }
  },
  "cells": [
    {
      "cell_type": "markdown",
      "metadata": {
        "id": "view-in-github",
        "colab_type": "text"
      },
      "source": [
        "<a href=\"https://colab.research.google.com/github/guillermohenrion/Intro-Python/blob/master/3_Funciones.ipynb\" target=\"_parent\"><img src=\"https://colab.research.google.com/assets/colab-badge.svg\" alt=\"Open In Colab\"/></a>"
      ]
    },
    {
      "cell_type": "markdown",
      "metadata": {
        "id": "4x9KMjQt0ZgR",
        "colab_type": "text"
      },
      "source": [
        "# Funciones\n",
        "\n",
        "Como en cualquier otro lenguaje, en *Python* también es posible definir funciones, es decir, secuencias de enunciados que reciben ciertos datos, ejecutan algunas operaciones sobre ellos y devuelven un resultado.\n",
        "\n",
        "Para definir una función se usa la palabra clave `def`, y el valor que va a retornar siempre debe ser precedido por un `return`. La sintaxis de una función es como se ve a continuación::\n",
        "\n",
        "```python\n",
        "def NOMBRE(LISTA DE ARGUMENTOS):\n",
        "    ENUNCIADOS\n",
        "    return VALOR\n",
        "```\n",
        "\n",
        "ó\n",
        "\n",
        "```python\n",
        "def NOMBRE(LISTA DE ARGUMENTOS):\n",
        "    ENUNCIADOS\n",
        "    print(VALOR)\n",
        "```\n",
        "\n",
        "La línea que contiene el `return` (o `print`) es opcional, pues no todas las funciones deben retornar algo. Por ejemplo, hay algunas que sólo modifican los valores de ciertas variables, por lo que no necesitan retornar o imprimir ningún valor."
      ]
    },
    {
      "cell_type": "markdown",
      "metadata": {
        "id": "Ff5W7Zrx0ZgS",
        "colab_type": "text"
      },
      "source": [
        "**Nota**:\n",
        "\n",
        "Es muy importante tener en cuenta que los enunciados que hacen parte de la función deben estar **cuatro espacios** por dentro del encabezado. En otras palabras, todo lo que esté indentado con cuatro espacios por dentro de la definición, pertenece al cuerpo de la función, ya que en Python la indentación es lo único que define la forma en que se agrupa el código. Sólo cuando el nivel de indentación se retorne al punto en que se escribió el primer `def` se considera que ha terminado la definición de la función."
      ]
    },
    {
      "cell_type": "markdown",
      "metadata": {
        "id": "FGT0m2HZ0ZgS",
        "colab_type": "text"
      },
      "source": [
        "Un ejemplo muy sencillo de una función que toma un argumento `x` y retorna este argumento elevado al cuadrado es:"
      ]
    },
    {
      "cell_type": "code",
      "metadata": {
        "id": "TeLGcvcO0ZgT",
        "colab_type": "code",
        "colab": {}
      },
      "source": [
        "def cuadrado(x):\n",
        "    return x**2"
      ],
      "execution_count": 0,
      "outputs": []
    },
    {
      "cell_type": "markdown",
      "metadata": {
        "id": "cLZXcOIR0ZgV",
        "colab_type": "text"
      },
      "source": [
        "Podemos comprobar que la función esta operando correctamente al pasarle varios argumentos y ver los resultados que retorna:"
      ]
    },
    {
      "cell_type": "code",
      "metadata": {
        "id": "Uaoz-4Vh0ZgW",
        "colab_type": "code",
        "outputId": "d63faa5c-3c32-4cf3-c421-1d11a0a15565",
        "colab": {}
      },
      "source": [
        "cuadrado(3)"
      ],
      "execution_count": 0,
      "outputs": [
        {
          "output_type": "execute_result",
          "data": {
            "text/plain": [
              "9"
            ]
          },
          "metadata": {
            "tags": []
          },
          "execution_count": 2
        }
      ]
    },
    {
      "cell_type": "code",
      "metadata": {
        "id": "FsYxF3E_0ZgY",
        "colab_type": "code",
        "outputId": "f8d9b943-4ce3-4111-add4-d87231a78941",
        "colab": {}
      },
      "source": [
        "cuadrado(5)"
      ],
      "execution_count": 0,
      "outputs": [
        {
          "output_type": "execute_result",
          "data": {
            "text/plain": [
              "25"
            ]
          },
          "metadata": {
            "tags": []
          },
          "execution_count": 4
        }
      ]
    },
    {
      "cell_type": "code",
      "metadata": {
        "id": "r3QcdR6p0Zga",
        "colab_type": "code",
        "colab": {}
      },
      "source": [
        "cuadrado(10)"
      ],
      "execution_count": 0,
      "outputs": []
    },
    {
      "cell_type": "code",
      "metadata": {
        "id": "agI8_q2V0Zgc",
        "colab_type": "code",
        "colab": {}
      },
      "source": [
        "cuadrado('a')"
      ],
      "execution_count": 0,
      "outputs": []
    },
    {
      "cell_type": "markdown",
      "metadata": {
        "id": "dZcKY3Y80Zgf",
        "colab_type": "text"
      },
      "source": [
        "En el último caso vemos que si intentamos pasarle a la función un argumento que no puede ser procesado, Python simplemente retorna un error."
      ]
    },
    {
      "cell_type": "markdown",
      "metadata": {
        "id": "m1inr16y0Zgf",
        "colab_type": "text"
      },
      "source": [
        "## Problemas"
      ]
    },
    {
      "cell_type": "markdown",
      "metadata": {
        "id": "ZAO_N9cp0Zgg",
        "colab_type": "text"
      },
      "source": [
        "### Problema 1\n",
        "\n",
        "Definir una función `imprimir_doble` que tome un argumento `x` y lo imprima dos veces, con un espacio entre una palabra y la siguiente. Por ejemplo, al evaluarla debe retornar:\n",
        "\n",
        "```python\n",
        "imprimir_doble(5)\n",
        "5 5\n",
        "```\n",
        "     \n",
        "```python\n",
        "imprimir_doble('hola')\n",
        "hola hola\n",
        "```\n",
        "     \n",
        "```python\n",
        "imprimir_doble([3,9,4])\n",
        "[3,9,4] [3,9,4]\n",
        "```"
      ]
    },
    {
      "cell_type": "code",
      "metadata": {
        "id": "u5qALl7Q0Zgg",
        "colab_type": "code",
        "colab": {}
      },
      "source": [
        "def imprimir_doble(x):\n",
        "    print(str(x) + ' ' + str(x) )\n"
      ],
      "execution_count": 0,
      "outputs": []
    },
    {
      "cell_type": "code",
      "metadata": {
        "id": "4wVYrK8Q0Zgi",
        "colab_type": "code",
        "outputId": "16e56660-a1fe-474d-a595-b8813a7c9181",
        "colab": {}
      },
      "source": [
        "# Evaluar la función aquí\n",
        "imprimir_doble([3,9,4])"
      ],
      "execution_count": 0,
      "outputs": [
        {
          "output_type": "stream",
          "text": [
            "[3, 9, 4] [3, 9, 4]\n"
          ],
          "name": "stdout"
        }
      ]
    },
    {
      "cell_type": "markdown",
      "metadata": {
        "id": "12LdtmtX0Zgl",
        "colab_type": "text"
      },
      "source": [
        "### Problema 2\n",
        "\n",
        "Definir una función `distancia` que tome dos argumentos `x,y`, que sean listas de dos elementos, y calcule la distancia entre ellos usando el teorema de Pitágoras:\n",
        "\n",
        "$$\\sqrt{\\left(x_{1}-y_{1}\\right)^{2}+\\left(x_{2}-y_{2}\\right)^{2}}$$\n",
        "\n",
        "Pueden comprobar que la función está haciendo su trabajo correctamente si retorna estos valores:\n",
        "\n",
        "```python\n",
        "distancia([0,0], [1,1])\n",
        "1.4142135623730951\n",
        "```\n",
        "\n",
        "```python\n",
        "distancia([1,5], [2,2])\n",
        "3.1622776601683795\n",
        "```"
      ]
    },
    {
      "cell_type": "code",
      "metadata": {
        "id": "qklP0imS0Zgm",
        "colab_type": "code",
        "colab": {}
      },
      "source": [
        "# Escribir la solución aquí\n",
        "def distancia(X,Y):\n",
        "    return math.sqrt((X[0]-Y[0])**2+(X[1]-Y[1])**2)"
      ],
      "execution_count": 0,
      "outputs": []
    },
    {
      "cell_type": "code",
      "metadata": {
        "id": "Q1pQUPbJ0Zgo",
        "colab_type": "code",
        "outputId": "5d607d69-ef0a-43e2-f366-8f770e936dfb",
        "colab": {}
      },
      "source": [
        "# Evaluar la función\n",
        "import math\n",
        "distancia([0,0], [1,1])"
      ],
      "execution_count": 0,
      "outputs": [
        {
          "output_type": "execute_result",
          "data": {
            "text/plain": [
              "1.4142135623730951"
            ]
          },
          "metadata": {
            "tags": []
          },
          "execution_count": 2
        }
      ]
    },
    {
      "cell_type": "markdown",
      "metadata": {
        "id": "NnI8wBxt0Zgr",
        "colab_type": "text"
      },
      "source": [
        "### Problema 3\n",
        "\n",
        "Definir una función `digitos` que tome un numero `x` y retorne los dígitos de que se compone, como cadenas. Por ejemplo, `digitos` debe retornar:\n",
        "\n",
        "```python\n",
        "digitos(1234)\n",
        "['1', '2', '3', '4']\n",
        "```\n",
        "\n",
        "```python\n",
        "digitos(99861)\n",
        "['9', '9', '8', '6', '1']\n",
        "```\n",
        "\n",
        "**Nota**: Utilizar los comandos de conversión entre tipos de datos, vistos al final de la sección anterior"
      ]
    },
    {
      "cell_type": "code",
      "metadata": {
        "id": "9ZwQLpjc0Zgr",
        "colab_type": "code",
        "colab": {}
      },
      "source": [
        "# Escribir la solución aquí\n",
        "def digitos(x):\n",
        "    return list(str(x))"
      ],
      "execution_count": 0,
      "outputs": []
    },
    {
      "cell_type": "code",
      "metadata": {
        "id": "fcI_fOIT0Zgu",
        "colab_type": "code",
        "outputId": "eb40e566-1be8-449e-a5cd-46f280556e62",
        "colab": {}
      },
      "source": [
        "# Evaluar la función aquí\n",
        "digitos(99861)\n"
      ],
      "execution_count": 0,
      "outputs": [
        {
          "output_type": "execute_result",
          "data": {
            "text/plain": [
              "['9', '9', '8', '6', '1']"
            ]
          },
          "metadata": {
            "tags": []
          },
          "execution_count": 5
        }
      ]
    },
    {
      "cell_type": "markdown",
      "metadata": {
        "id": "iSKf_X890Zgw",
        "colab_type": "text"
      },
      "source": [
        "### Problema 4\n",
        "\n",
        "Definir una función `mediana` que pueda calcular la mediana de cualquier lista, y aplicarla a la siguiente lista para comprobar:\n",
        "\n",
        "*Respuesta:*\n",
        "\n",
        "    15.0"
      ]
    },
    {
      "cell_type": "code",
      "metadata": {
        "id": "TqpoyNGk0Zgw",
        "colab_type": "code",
        "colab": {}
      },
      "source": [
        "li = [3, 18, 17, 44, 14, 12, 29, 19, 4, 6, 17, 7, 14, 6, 8, 17, 17, 21, 65,\\\n",
        "      19, 10, 31, 92, 17, 5, 15, 3, 14, 20, 12, 29, 57, 15, 2, 17, 1, 6, 17, 2,\\\n",
        "      71, 12, 11, 62, 14, 9, 20, 43, 19, 4, 15]"
      ],
      "execution_count": 0,
      "outputs": []
    },
    {
      "cell_type": "code",
      "metadata": {
        "id": "iJhJsXjb0Zgy",
        "colab_type": "code",
        "colab": {}
      },
      "source": [
        "# Escribir la solución aquí\n",
        "def mediana(lista):\n",
        "    return \n",
        "    "
      ],
      "execution_count": 0,
      "outputs": []
    },
    {
      "cell_type": "code",
      "metadata": {
        "id": "5Re9JO9t0Zg0",
        "colab_type": "code",
        "colab": {}
      },
      "source": [
        "# Evaluar la función aquí\n"
      ],
      "execution_count": 0,
      "outputs": []
    }
  ]
}