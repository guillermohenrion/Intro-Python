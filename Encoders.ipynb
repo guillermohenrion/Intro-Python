{
  "nbformat": 4,
  "nbformat_minor": 0,
  "metadata": {
    "colab": {
      "name": "Encoders.ipynb",
      "provenance": [],
      "collapsed_sections": [],
      "authorship_tag": "ABX9TyNjWHx4RMup7WKWyW5WMFTy",
      "include_colab_link": true
    },
    "kernelspec": {
      "name": "python3",
      "display_name": "Python 3"
    }
  },
  "cells": [
    {
      "cell_type": "markdown",
      "metadata": {
        "id": "view-in-github",
        "colab_type": "text"
      },
      "source": [
        "<a href=\"https://colab.research.google.com/github/guillermohenrion/Intro-Python/blob/master/Encoders.ipynb\" target=\"_parent\"><img src=\"https://colab.research.google.com/assets/colab-badge.svg\" alt=\"Open In Colab\"/></a>"
      ]
    },
    {
      "cell_type": "code",
      "metadata": {
        "id": "QrIs2PLVA3N8",
        "colab_type": "code",
        "colab": {}
      },
      "source": [
        "from sklearn.preprocessing import LabelBinarizer, LabelEncoder, OneHotEncoder\n",
        "import numpy as np"
      ],
      "execution_count": 0,
      "outputs": []
    },
    {
      "cell_type": "code",
      "metadata": {
        "id": "X0-oPjIaJIYR",
        "colab_type": "code",
        "colab": {
          "base_uri": "https://localhost:8080/",
          "height": 255
        },
        "outputId": "66ae5e69-05e8-4bbb-e0f8-cbe573e32e25"
      },
      "source": [
        "data = ['cold', 'cold', 'warm', 'cold', 'hot', 'hot', 'warm', 'cold', 'warm', 'hot']\n",
        "\n",
        "label_encoder = LabelEncoder()\n",
        "integer_encoded = label_encoder.fit_transform(data)\n",
        "\n",
        "print(integer_encoded)\n",
        "\n",
        "onehot_encoder = OneHotEncoder(sparse=False)\n",
        "onehot_encoded = onehot_encoder.fit_transform(np.reshape(data, (len(data),1)).tolist())\n",
        "\n",
        "print(onehot_encoded)\n",
        "\n",
        "\n",
        "X = [[\"US\", \"M\"], [\"UK\", \"M\"], [\"FR\", \"F\"]]\n",
        "OneHotEncoder().fit_transform(X).toarray()"
      ],
      "execution_count": 16,
      "outputs": [
        {
          "output_type": "stream",
          "text": [
            "[0 0 2 0 1 1 2 0 2 1]\n",
            "[[1. 0. 0.]\n",
            " [1. 0. 0.]\n",
            " [0. 0. 1.]\n",
            " [1. 0. 0.]\n",
            " [0. 1. 0.]\n",
            " [0. 1. 0.]\n",
            " [0. 0. 1.]\n",
            " [1. 0. 0.]\n",
            " [0. 0. 1.]\n",
            " [0. 1. 0.]]\n"
          ],
          "name": "stdout"
        },
        {
          "output_type": "execute_result",
          "data": {
            "text/plain": [
              "array([[0., 0., 1., 0., 1.],\n",
              "       [0., 1., 0., 0., 1.],\n",
              "       [1., 0., 0., 1., 0.]])"
            ]
          },
          "metadata": {
            "tags": []
          },
          "execution_count": 16
        }
      ]
    },
    {
      "cell_type": "code",
      "metadata": {
        "id": "oGpXJht4EC2Z",
        "colab_type": "code",
        "colab": {
          "base_uri": "https://localhost:8080/",
          "height": 119
        },
        "outputId": "8a88b2b0-b630-4eb2-90a0-1f0cdbbc5958"
      },
      "source": [
        "from sklearn import preprocessing\n",
        "\n",
        "label_encoder = LabelEncoder()\n",
        "values=['red', 'blue', 'green', 'green', 'yellow', 'yellow', 'yellow']\n",
        "integer_encoded = label_encoder.fit_transform(values)\n",
        "label_encoder.classes_\n",
        "\n",
        "lbb = preprocessing.LabelBinarizer()\n",
        "lbb.fit(integer_encoded)\n",
        "\n",
        "lbb.classes_\n",
        "lbb.transform([0, 0, 1,2,3, 3])"
      ],
      "execution_count": 110,
      "outputs": [
        {
          "output_type": "execute_result",
          "data": {
            "text/plain": [
              "array([[1, 0, 0, 0],\n",
              "       [1, 0, 0, 0],\n",
              "       [0, 1, 0, 0],\n",
              "       [0, 0, 1, 0],\n",
              "       [0, 0, 0, 1],\n",
              "       [0, 0, 0, 1]])"
            ]
          },
          "metadata": {
            "tags": []
          },
          "execution_count": 110
        }
      ]
    },
    {
      "cell_type": "markdown",
      "metadata": {
        "id": "k6RnJOFPS8Ip",
        "colab_type": "text"
      },
      "source": [
        "[Encodings](https://towardsdatascience.com/all-about-categorical-variable-encoding-305f3361fd02)\n",
        "\n",
        "[Categorical vs Continuous variables](https://medium.com/@outside2SDs/an-overview-of-correlation-measures-between-categorical-and-continuous-variables-4c7f85610365)\n",
        "\n"
      ]
    }
  ]
}