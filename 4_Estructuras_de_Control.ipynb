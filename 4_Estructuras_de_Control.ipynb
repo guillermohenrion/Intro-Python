{
  "nbformat": 4,
  "nbformat_minor": 0,
  "metadata": {
    "anaconda-cloud": {},
    "kernelspec": {
      "display_name": "Python [conda env:BayesP3]",
      "language": "python",
      "name": "conda-env-BayesP3-py"
    },
    "language_info": {
      "codemirror_mode": {
        "name": "ipython",
        "version": 3
      },
      "file_extension": ".py",
      "mimetype": "text/x-python",
      "name": "python",
      "nbconvert_exporter": "python",
      "pygments_lexer": "ipython3",
      "version": "3.6.6"
    },
    "colab": {
      "name": "4. Estructuras de Control.ipynb",
      "provenance": [],
      "collapsed_sections": [],
      "include_colab_link": true
    }
  },
  "cells": [
    {
      "cell_type": "markdown",
      "metadata": {
        "id": "view-in-github",
        "colab_type": "text"
      },
      "source": [
        "<a href=\"https://colab.research.google.com/github/guillermohenrion/Intro-Python/blob/master/4_Estructuras_de_Control.ipynb\" target=\"_parent\"><img src=\"https://colab.research.google.com/assets/colab-badge.svg\" alt=\"Open In Colab\"/></a>"
      ]
    },
    {
      "cell_type": "markdown",
      "metadata": {
        "id": "VvjcjGhk0c57",
        "colab_type": "text"
      },
      "source": [
        "# El condicional (if)\n",
        "\n",
        "Es quizá la estructura de control más utilizada. A continuación presentamos un sencillo ejemplo para observar cómo es su sintaxis en Python:"
      ]
    },
    {
      "cell_type": "code",
      "metadata": {
        "id": "zvCJPFC20c59",
        "colab_type": "code",
        "colab": {}
      },
      "source": [
        "def mayor_o_menor(x, y):\n",
        "    if x < y:\n",
        "        print(x, \"es menor que\", y)\n",
        "    elif x > y:\n",
        "        print(x, \"es mayor que\", y)\n",
        "    else:\n",
        "        print(x, \"y\", y, \"son iguales\")"
      ],
      "execution_count": 0,
      "outputs": []
    },
    {
      "cell_type": "markdown",
      "metadata": {
        "id": "ytKMZIiu0c6A",
        "colab_type": "text"
      },
      "source": [
        "Al aplicar esta función a distintos números obtenemos:"
      ]
    },
    {
      "cell_type": "code",
      "metadata": {
        "id": "R_NAdgt70c6A",
        "colab_type": "code",
        "outputId": "c92af55a-afed-4143-ac36-6f057f478e39",
        "colab": {}
      },
      "source": [
        "mayor_o_menor(2, 5)"
      ],
      "execution_count": 0,
      "outputs": [
        {
          "output_type": "stream",
          "text": [
            "(2, 'es menor que', 5)\n"
          ],
          "name": "stdout"
        }
      ]
    },
    {
      "cell_type": "code",
      "metadata": {
        "id": "QZZrkn6v0c6D",
        "colab_type": "code",
        "outputId": "1a995774-283e-4aa0-dbe2-df33e6d717ef",
        "colab": {}
      },
      "source": [
        "mayor_o_menor(100, 10)"
      ],
      "execution_count": 0,
      "outputs": [
        {
          "output_type": "stream",
          "text": [
            "(100, 'es mayor que', 10)\n"
          ],
          "name": "stdout"
        }
      ]
    },
    {
      "cell_type": "code",
      "metadata": {
        "id": "mhcGHZOz0c6F",
        "colab_type": "code",
        "outputId": "9604c5bf-be6d-4702-efcc-4c8e088ed325",
        "colab": {}
      },
      "source": [
        "mayor_o_menor(1, 1)"
      ],
      "execution_count": 0,
      "outputs": [
        {
          "output_type": "stream",
          "text": [
            "(1, 'y', 1, 'son iguales')\n"
          ],
          "name": "stdout"
        }
      ]
    },
    {
      "cell_type": "markdown",
      "metadata": {
        "id": "gn1DBhFm0c6I",
        "colab_type": "text"
      },
      "source": [
        "Algunos de los operadores con los que se pueden hacer comparaciones al momento de usar en `if` son:\n",
        "\n",
        "| Operador | Resultado\n",
        "| -------- | ---------\n",
        "|   ==     | Igualdad\n",
        "|   !=     | No es igual        \n",
        "|   <      | Menor que\n",
        "|   >      | Mayor que\n",
        "|   <=     | Menor o igual\n",
        "|   >=     | Mayor o igual\n",
        "|   not    | Niega una condición\n",
        "|   in     | Verifica si un elemento está en una lista\n",
        "|   and    | Verifica si dos condiciones se cumplen\n",
        "|   or     | Verifica si se cumple al menos una condición\n",
        "|   is     | Verifica si un objeto es igual a otro\n",
        "\n",
        "A excepción de `in` y `not`, todos los demás operadores son similares a los usados en otros lenguajes de programación, por lo que no vamos a mirar ejemplos de ellos. Veamos, por tanto, sólo como funcionan los primeros:"
      ]
    },
    {
      "cell_type": "code",
      "metadata": {
        "id": "u6_IhlKm0c6I",
        "colab_type": "code",
        "outputId": "5456f442-ffe6-4616-f7a7-cabdb2c298bb",
        "colab": {}
      },
      "source": [
        "3 in [1, 2, 4]"
      ],
      "execution_count": 0,
      "outputs": [
        {
          "output_type": "execute_result",
          "data": {
            "text/plain": [
              "False"
            ]
          },
          "metadata": {
            "tags": []
          },
          "execution_count": 6
        }
      ]
    },
    {
      "cell_type": "code",
      "metadata": {
        "id": "hGdIOmea0c6M",
        "colab_type": "code",
        "outputId": "abd9f66c-fdb5-46be-e9f1-aa464725f90d",
        "colab": {}
      },
      "source": [
        "3 in [1, 2, 3]"
      ],
      "execution_count": 0,
      "outputs": [
        {
          "output_type": "execute_result",
          "data": {
            "text/plain": [
              "True"
            ]
          },
          "metadata": {
            "tags": []
          },
          "execution_count": 7
        }
      ]
    },
    {
      "cell_type": "code",
      "metadata": {
        "id": "BaCWuWEF0c6O",
        "colab_type": "code",
        "outputId": "16f0e372-c330-4086-87e9-b130b4b70fa5",
        "colab": {}
      },
      "source": [
        "not (2 == 5)"
      ],
      "execution_count": 0,
      "outputs": [
        {
          "output_type": "execute_result",
          "data": {
            "text/plain": [
              "True"
            ]
          },
          "metadata": {
            "tags": []
          },
          "execution_count": 8
        }
      ]
    },
    {
      "cell_type": "markdown",
      "metadata": {
        "id": "rFO3U69_0c6R",
        "colab_type": "text"
      },
      "source": [
        "A través de estos ejemplos también podemos notar que los valores de verdad en Python se escriben como `True` y `False` para verdadero y falso, respectivamente."
      ]
    },
    {
      "cell_type": "markdown",
      "metadata": {
        "id": "OOFHUeXc0c6R",
        "colab_type": "text"
      },
      "source": [
        "## Problemas"
      ]
    },
    {
      "cell_type": "markdown",
      "metadata": {
        "id": "tGMVmMU50c6S",
        "colab_type": "text"
      },
      "source": [
        "### Problema 1\n",
        "\n",
        "Definir una función `absoluto(x)` que tome un número `x` y retorne su valor absoluto, así:\n",
        "\n",
        "```python\n",
        "absoluto(100.22)\n",
        "100.22\n",
        "```\n",
        "\n",
        "```python\n",
        "absoluto(-18.7)\n",
        "18.7\n",
        "```"
      ]
    },
    {
      "cell_type": "code",
      "metadata": {
        "id": "ZMPK9qVS0c6S",
        "colab_type": "code",
        "colab": {}
      },
      "source": [
        "#Escriba aquí su respuesta"
      ],
      "execution_count": 0,
      "outputs": []
    },
    {
      "cell_type": "markdown",
      "metadata": {
        "id": "8c8_orBM0c6U",
        "colab_type": "text"
      },
      "source": [
        "### Problema 2\n",
        "\n",
        "Definir una función `es_divisible_entre_siete(x)` que imprima si un número es o no es divisible entre 7. La función debe *imprimir* resultados como los siguientes:\n",
        "\n",
        "```python\n",
        "es_divisible_entre_siete(12)\n",
        "'12 no es divisible entre 7'\n",
        "```\n",
        "\n",
        "```python\n",
        "es_divisible_entre_siete(14)\n",
        "'14 es divisible entre 7'\n",
        "```\n",
        "\n",
        "```python\n",
        "es_divisible_entre_siete(32)\n",
        "'32 no es divisible entre 7'\n",
        "```\n",
        "\n",
        "```python\n",
        "es_divisible_entre_siete(21)\n",
        "'21 es divisible entre 7'\n",
        "```\n",
        "\n",
        "**Nota**:\n",
        "\n",
        "Utilizar el operador módulo (`%`) para decidir si un número es múltiplo de otro. Este operador retorna el resto de la división entre dos números. Por tanto, si un número divide exactamente a otro, retorna `0`, sino retorna cualquier otro número. Veamos algunos ejemplos:\n",
        "\n",
        "```python\n",
        "12%4\n",
        "0\n",
        "```\n",
        "\n",
        "```python\n",
        "12%6\n",
        "0\n",
        "```\n",
        "\n",
        "```python\n",
        "12%5\n",
        "2\n",
        "```\n",
        "\n",
        "```python\n",
        "25%5\n",
        "0\n",
        "```\n",
        "\n",
        "```python\n",
        "25%6\n",
        "1\n",
        "```"
      ]
    },
    {
      "cell_type": "code",
      "metadata": {
        "id": "etcWXNl50c6U",
        "colab_type": "code",
        "colab": {}
      },
      "source": [
        "#Escriba aquí su respuesta"
      ],
      "execution_count": 0,
      "outputs": []
    },
    {
      "cell_type": "markdown",
      "metadata": {
        "id": "CAZ8QLVB0c6X",
        "colab_type": "text"
      },
      "source": [
        "### Problema 3\n",
        "\n",
        "Generalizar la función anterior como una nueva función llamada `es_divisible_entre_n(x, n)` que tome dos números enteros e imprima si el primero es divisible entre el segundo, así: (Tomado de *Aprenda a pensar como un programador con Python*)\n",
        "\n",
        "```python\n",
        "es_divisible_entre_n(20, 4)\n",
        "'20 es divisible entre 4'\n",
        "```\n",
        "\n",
        "```python\n",
        "es_divisible_entre_n(36, 5)\n",
        "'36 no es divisible entre 5'\n",
        "```"
      ]
    },
    {
      "cell_type": "markdown",
      "metadata": {
        "id": "-ifF7NNe0c6X",
        "colab_type": "text"
      },
      "source": [
        "### Problema 4\n",
        "\n",
        "Definir una función `agregar_nuevo(li, x)` que reciba una lista y un elemento, y retorne una nueva lista en la que esté añadido el elemento, pero sólo si éste **no** hace parte de la lista original (Tomado de *Introducción a Mathematica* del Prof. Jurgen Tischer).\n",
        "\n",
        "Por ejemplo, algunos resultados de esta función son:\n",
        "\n",
        "```python\n",
        "agregar_nuevo([3,9,6], 11)\n",
        "[3, 9, 6, 11]\n",
        "```\n",
        "\n",
        "```python\n",
        "agregar_nuevo([3,9,6], 9)\n",
        "[3, 9, 6]\n",
        "```"
      ]
    },
    {
      "cell_type": "markdown",
      "metadata": {
        "id": "O_B7XhxK0c6Y",
        "colab_type": "text"
      },
      "source": [
        "# El ciclo for\n",
        "\n",
        "En Python `for` se utiliza para moverse (o iterar) entre los elementos de una secuencia de datos. Su sintaxis es más sencilla que la usada en C o C++, porque en lugar de utilizar un contador cuyo valor va aumentando o disminuyendo durante el ciclo, se toma una secuencia completa (i.e. una lista, una tupla, o una cadena), y se recorren sus elementos en el orden en que aparecen en ella.\n",
        "\n",
        "Observemos algunos ejemplos:"
      ]
    },
    {
      "cell_type": "code",
      "metadata": {
        "id": "LPGA252k0c6Y",
        "colab_type": "code",
        "outputId": "c791156c-9521-40b9-eba6-5b5d00b67275",
        "colab": {}
      },
      "source": [
        "x = 5\n",
        "y = 7\n",
        "print (x,  y)"
      ],
      "execution_count": 0,
      "outputs": [
        {
          "output_type": "stream",
          "text": [
            "(5, 7)\n"
          ],
          "name": "stdout"
        }
      ]
    },
    {
      "cell_type": "code",
      "metadata": {
        "id": "-0z1z4AK0c6b",
        "colab_type": "code",
        "outputId": "2117171b-8cb8-4cb7-be40-973f92170040",
        "colab": {}
      },
      "source": [
        "for x in [3, 9, 12, 4]:\n",
        "    print(x*2)"
      ],
      "execution_count": 0,
      "outputs": [
        {
          "output_type": "stream",
          "text": [
            "6\n",
            "18\n",
            "24\n",
            "8\n"
          ],
          "name": "stdout"
        }
      ]
    },
    {
      "cell_type": "code",
      "metadata": {
        "id": "nKwvtYra0c6d",
        "colab_type": "code",
        "outputId": "68c2b9a0-9d43-43c6-caf1-09d055c3a431",
        "colab": {}
      },
      "source": [
        "prefijos = \"JKLMNOPQ\"\n",
        "sufijo = \"ack\"\n",
        "for letra in prefijos:\n",
        "    print(letra + sufijo)"
      ],
      "execution_count": 0,
      "outputs": [
        {
          "output_type": "stream",
          "text": [
            "Jack\n",
            "Kack\n",
            "Lack\n",
            "Mack\n",
            "Nack\n",
            "Oack\n",
            "Pack\n",
            "Qack\n"
          ],
          "name": "stdout"
        }
      ]
    },
    {
      "cell_type": "code",
      "metadata": {
        "id": "4KLUiofr0c6e",
        "colab_type": "code",
        "outputId": "5ecfb9c8-9871-4f2e-ff9d-12b43fb0d7cd",
        "colab": {}
      },
      "source": [
        "for i in range(10):\n",
        "    print(i**2)"
      ],
      "execution_count": 0,
      "outputs": [
        {
          "output_type": "stream",
          "text": [
            "0\n",
            "1\n",
            "4\n",
            "9\n",
            "16\n",
            "25\n",
            "36\n",
            "49\n",
            "64\n",
            "81\n"
          ],
          "name": "stdout"
        }
      ]
    },
    {
      "cell_type": "markdown",
      "metadata": {
        "id": "Vh1C0hbQ0c6g",
        "colab_type": "text"
      },
      "source": [
        "`range` es un comando que se utiliza muy a menudo junto a los ciclos `for`, pues sirve para generar una lista con todos los números desde 0 hasta cierto valor. También puede usarse con dos valores, uno como límite inferior y el otro como límite superior, así:\n",
        "\n",
        "**Nota**:\n",
        "\n",
        "En Python 3 `range` genera un objeto de tipo `range` en lugar de una lista, por razones de eficiencia. Por ello hay que convertirlo a una lista para observar lo que contiene."
      ]
    },
    {
      "cell_type": "code",
      "metadata": {
        "id": "DwXBi5520c6g",
        "colab_type": "code",
        "outputId": "60018aeb-44b6-4c44-88f3-96d012e3d08a",
        "colab": {}
      },
      "source": [
        "list(range(10))"
      ],
      "execution_count": 0,
      "outputs": [
        {
          "output_type": "execute_result",
          "data": {
            "text/plain": [
              "[0, 1, 2, 3, 4, 5, 6, 7, 8, 9]"
            ]
          },
          "metadata": {
            "tags": []
          },
          "execution_count": 41
        }
      ]
    },
    {
      "cell_type": "markdown",
      "metadata": {
        "id": "jyyYKRix0c6i",
        "colab_type": "text"
      },
      "source": [
        "`range` no sólo acepta un único argumento. Al evaluarlo con dos argumentos, genera una lista desde el valor inicial, hasta uno antes del valor final"
      ]
    },
    {
      "cell_type": "code",
      "metadata": {
        "id": "9u6rXrKk0c6i",
        "colab_type": "code",
        "outputId": "6d487bfd-4917-4ef0-8f63-5fe06b54da1b",
        "colab": {}
      },
      "source": [
        "list(range(1, 20))"
      ],
      "execution_count": 0,
      "outputs": [
        {
          "output_type": "execute_result",
          "data": {
            "text/plain": [
              "[1, 2, 3, 4, 5, 6, 7, 8, 9, 10, 11, 12, 13, 14, 15, 16, 17, 18, 19]"
            ]
          },
          "metadata": {
            "tags": []
          },
          "execution_count": 8
        }
      ]
    },
    {
      "cell_type": "markdown",
      "metadata": {
        "id": "PzFJETZx0c6l",
        "colab_type": "text"
      },
      "source": [
        "Y con un tercer argumento, `range` genera una lista con valores espaciados según el tercer argumento"
      ]
    },
    {
      "cell_type": "code",
      "metadata": {
        "id": "bazkTj_60c6l",
        "colab_type": "code",
        "outputId": "63b2f57a-3cb6-47ab-f421-b7ae8f5b84fe",
        "colab": {}
      },
      "source": [
        "list(range(7, 25, 3))"
      ],
      "execution_count": 0,
      "outputs": [
        {
          "output_type": "execute_result",
          "data": {
            "text/plain": [
              "[7, 10, 13, 16, 19, 22]"
            ]
          },
          "metadata": {
            "tags": []
          },
          "execution_count": 9
        }
      ]
    },
    {
      "cell_type": "markdown",
      "metadata": {
        "id": "5zXQA6e20c6n",
        "colab_type": "text"
      },
      "source": [
        "Dado que no es fácil recordar como funciona `range`, su ayuda puede consultarse interactivamente al evaluar su nombre, seguido de `?`, así:"
      ]
    },
    {
      "cell_type": "code",
      "metadata": {
        "id": "0KIjDFLX0c6o",
        "colab_type": "code",
        "colab": {}
      },
      "source": [
        "range?"
      ],
      "execution_count": 0,
      "outputs": []
    },
    {
      "cell_type": "markdown",
      "metadata": {
        "id": "WNKvkCXg0c6r",
        "colab_type": "text"
      },
      "source": [
        "## Problemas"
      ]
    },
    {
      "cell_type": "markdown",
      "metadata": {
        "id": "A1YutFcX0c6r",
        "colab_type": "text"
      },
      "source": [
        "### Problema 1\n",
        "\n",
        "Construir un ciclo ``for`` que imprima todos los números pares de 1 a 100."
      ]
    },
    {
      "cell_type": "code",
      "metadata": {
        "id": "lb6buS4K0c6r",
        "colab_type": "code",
        "colab": {}
      },
      "source": [
        "# Escribir la solución aquí\n"
      ],
      "execution_count": 0,
      "outputs": []
    },
    {
      "cell_type": "markdown",
      "metadata": {
        "id": "aL8ymBPw0c6t",
        "colab_type": "text"
      },
      "source": [
        "### Problema 2\n",
        "\n",
        "Definir una función `es_primo` que tome un número `x` y verifique si es divisible entre todos los números menores a `x`. Si lo es, entonces debe retornar `False` y si no `True`. Por ejemplo:\n",
        "\n",
        "```python\n",
        "es_primo(10)\n",
        "False\n",
        "```\n",
        "\n",
        "```python\n",
        "es_primo(17)\n",
        "True\n",
        "```\n",
        "\n",
        "```python\n",
        "es_primo(15)\n",
        "False\n",
        "```\n",
        "\n",
        "```python\n",
        "es_primo(23)\n",
        "True\n",
        "```\n",
        "\n",
        "**Nota**:\n",
        "\n",
        "Modificar la función `es_divisible_entre_n` para que en lugar de imprimir oraciones, retorne `True` o `False`, y después utilizarla como parte del enunciado de la función `es_primo`."
      ]
    },
    {
      "cell_type": "code",
      "metadata": {
        "id": "vD1ruKQp0c6u",
        "colab_type": "code",
        "colab": {}
      },
      "source": [
        "# Escribir la solución aquí\n"
      ],
      "execution_count": 0,
      "outputs": []
    },
    {
      "cell_type": "markdown",
      "metadata": {
        "id": "KSAeNtAT0c6v",
        "colab_type": "text"
      },
      "source": [
        "### Problema 3\n",
        "\n",
        "Optimizar la función anterior, respondiendo a la siguiente pregunta: ¿Es necesario revisar todos los números menores a `x` para verificar si `x` es divisible entre todos ellos? ¿Hasta qué número es en realidad necesario revisar?\n",
        "\n",
        "Para ello, definir una nueva función `es_primo_veloz` y comparar los tiempos de ejecución entre ella y `es_primo` usando el comando `%timeit`, así:\n",
        "\n",
        "```python\n",
        "%timeit es_primo(600)\n",
        "100000 loops, best of 3: 18.2 us per loop\n",
        "```\n",
        "\n",
        "```ipython\n",
        "%timeit es_primo_veloz(600)\n",
        "100000 loops, best of 3: 7.62 us per loop\n",
        "```\n"
      ]
    },
    {
      "cell_type": "code",
      "metadata": {
        "id": "tvN7Yzv50c6w",
        "colab_type": "code",
        "colab": {}
      },
      "source": [
        "# Escribir la solución aquí\n"
      ],
      "execution_count": 0,
      "outputs": []
    },
    {
      "cell_type": "markdown",
      "metadata": {
        "id": "naCnzv720c6x",
        "colab_type": "text"
      },
      "source": [
        "### Problema 4\n",
        "\n",
        "Definir una función `desv_est` que calcule la desviación estándar de una lista, usando la fórmula:\n",
        "\n",
        "$$s=\\sqrt{\\frac{\\sum_{i=1}^{n}\\left(x_{i}-\\bar{x}\\right)^{2}}{n-1}}$$\n",
        "\n",
        "donde $\\bar{x}$ es el promedio y $n$ es el número total de datos.\n",
        "\n",
        "Por ejemplo, la desviación estándar de la siguiente lista:"
      ]
    },
    {
      "cell_type": "code",
      "metadata": {
        "id": "bzSAYCsj0c6y",
        "colab_type": "code",
        "colab": {}
      },
      "source": [
        "li = [48.38,  27.6 ,  32.46,  51.94,  47.43,  48.61,  34.38,  48.98,\\\n",
        "      48.86,  41.45,  56.55,  25.46,  27.03,  36.72,  48.03,  36.86,\\\n",
        "      42.58,  44.44,  56.12,  43.86,  44.42,  42.92,  41.43,  22.81,\\\n",
        "      36.55,  50.89,  29.93,  47.61,  63.91,  53.98,  42.64,  27.18,\\\n",
        "      29.93,  31.51]"
      ],
      "execution_count": 0,
      "outputs": []
    },
    {
      "cell_type": "markdown",
      "metadata": {
        "id": "GvFU0D650c61",
        "colab_type": "text"
      },
      "source": [
        "debe dar como resultado\n",
        "\n",
        "```python\n",
        "desv_est(li)\n",
        "10.193054313544058\n",
        "```"
      ]
    },
    {
      "cell_type": "markdown",
      "metadata": {
        "id": "YT_fYvRx0c62",
        "colab_type": "text"
      },
      "source": [
        "### Problema 5\n",
        "\n",
        "Definir una función `rango_intercuartil` que calcule el rango intercuartil de una lista. Recordar que éste se define como:\n",
        "\n",
        "$$RI = Q_{3} - Q_{1}$$\n",
        "\n",
        "donde $Q_{3}$ es la mediana de los datos mayores a la mediana y $Q_{1}$ es la mediana de los datos menores a la mediana.\n",
        "\n",
        "Por ejemplo, para la la lista del problema anterior, el rango intercuartil es igual a:\n",
        "\n",
        "```python\n",
        "rango_intercuartil(li)\n",
        "16.15\n",
        "```\n",
        "\n",
        "**Notas**:\n",
        "\n",
        "* Utilizar la función `mediana` definida en el último problema de la sección anterior.\n",
        "\n",
        "* Dividir la lista original en dos listas `li1` y `li2` que contengan los elementos menores y mayores a la mediana, respectivamente, y calcularles a éstas nuevamente la mediana para obtener $Q_{3}$ y $Q_{1}$.\n",
        "\n",
        "    Para ello, definir `li1 = []` y `li2 = []` para que empiecen siendo listas vacías y utilizar el método `append` de cada una para añadirles los elementos correspondientes."
      ]
    },
    {
      "cell_type": "code",
      "metadata": {
        "id": "AsRBF6m-0c62",
        "colab_type": "code",
        "colab": {}
      },
      "source": [
        "# Escribir la solución aquí\n"
      ],
      "execution_count": 0,
      "outputs": []
    },
    {
      "cell_type": "markdown",
      "metadata": {
        "id": "j0yUy_e90c64",
        "colab_type": "text"
      },
      "source": [
        "# El ciclo while\n",
        "\n",
        "Finalmente vamos a mirar la sintaxis del comando `while`, que si bien no es tan usado como los dos anteriores, es muy útil porque permite recorrer los elementos de una lista, tupla o cadena por medio de su índice. Esto es algo que no puede hacerse con mucha naturalidad con `for`, que está ideado para recorrer los elementos directamente, sin tener que preocuparse por sus posiciones.\n",
        "\n",
        "Además, con `while` no es necesario definir un límite superior para realizar un ciclo, como si hay que hacerlo con `for`.\n",
        "\n",
        "Miremos un par de ejemplos:\n",
        "\n",
        "**(1)** En este primer ejemplo, imprimimos la lista de todos los elementos de una lista `li`, pero seleccionándolos de `li` por medio de su índice."
      ]
    },
    {
      "cell_type": "code",
      "metadata": {
        "id": "Lzxn6uS20c64",
        "colab_type": "code",
        "outputId": "de7f0e08-d209-4bfb-c121-01446ff0570b",
        "colab": {}
      },
      "source": [
        "li = [3, 6, 9, 11]\n",
        "i = 0\n",
        "while i < 4:\n",
        "    print(li[i])\n",
        "    i += 1"
      ],
      "execution_count": 0,
      "outputs": [
        {
          "output_type": "stream",
          "text": [
            "3\n",
            "6\n",
            "9\n",
            "11\n"
          ],
          "name": "stdout"
        }
      ]
    },
    {
      "cell_type": "markdown",
      "metadata": {
        "id": "ui89Wgst0c66",
        "colab_type": "text"
      },
      "source": [
        "En la última línea pueden verse un ejemplo de asignación abreviada, pues en lugar de escribir ``i = i+1``, escribimos ``i += 1``, lo cual es similar a como se hace en C o C++. Otras abreviaciones que funcionan en Python son:\n",
        "\n",
        "    -=, *=, /=, y %=\n",
        "\n",
        "**Nota**:\n",
        "\n",
        "¿Cuál es el efecto de `%=` en una asignación abreviada?"
      ]
    },
    {
      "cell_type": "markdown",
      "metadata": {
        "id": "RJzkNPBM0c66",
        "colab_type": "text"
      },
      "source": [
        "**(2)** En este ejemplo vamos a imprimir los 20 primeros números que son divisibles entre 4."
      ]
    },
    {
      "cell_type": "code",
      "metadata": {
        "id": "d90ObsGm0c66",
        "colab_type": "code",
        "outputId": "f6be2f68-188a-4caa-af8f-b0dd0c2a682f",
        "colab": {}
      },
      "source": [
        "i = 0\n",
        "j = 1\n",
        "while i <= 20:\n",
        "    if es_divisible_entre_n(j, 4):\n",
        "        print(j)\n",
        "        i += 1\n",
        "    j += 1"
      ],
      "execution_count": 0,
      "outputs": [
        {
          "output_type": "error",
          "ename": "NameError",
          "evalue": "name 'es_divisible_entre_n' is not defined",
          "traceback": [
            "\u001b[1;31m---------------------------------------------------------------------------\u001b[0m",
            "\u001b[1;31mNameError\u001b[0m                                 Traceback (most recent call last)",
            "\u001b[1;32m<ipython-input-44-27095eca9f45>\u001b[0m in \u001b[0;36m<module>\u001b[1;34m()\u001b[0m\n\u001b[0;32m      2\u001b[0m \u001b[0mj\u001b[0m \u001b[1;33m=\u001b[0m \u001b[1;36m1\u001b[0m\u001b[1;33m\u001b[0m\u001b[0m\n\u001b[0;32m      3\u001b[0m \u001b[1;32mwhile\u001b[0m \u001b[0mi\u001b[0m \u001b[1;33m<=\u001b[0m \u001b[1;36m20\u001b[0m\u001b[1;33m:\u001b[0m\u001b[1;33m\u001b[0m\u001b[0m\n\u001b[1;32m----> 4\u001b[1;33m     \u001b[1;32mif\u001b[0m \u001b[0mes_divisible_entre_n\u001b[0m\u001b[1;33m(\u001b[0m\u001b[0mj\u001b[0m\u001b[1;33m,\u001b[0m \u001b[1;36m4\u001b[0m\u001b[1;33m)\u001b[0m\u001b[1;33m:\u001b[0m\u001b[1;33m\u001b[0m\u001b[0m\n\u001b[0m\u001b[0;32m      5\u001b[0m         \u001b[1;32mprint\u001b[0m\u001b[1;33m(\u001b[0m\u001b[0mj\u001b[0m\u001b[1;33m)\u001b[0m\u001b[1;33m\u001b[0m\u001b[0m\n\u001b[0;32m      6\u001b[0m         \u001b[0mi\u001b[0m \u001b[1;33m+=\u001b[0m \u001b[1;36m1\u001b[0m\u001b[1;33m\u001b[0m\u001b[0m\n",
            "\u001b[1;31mNameError\u001b[0m: name 'es_divisible_entre_n' is not defined"
          ]
        }
      ]
    },
    {
      "cell_type": "markdown",
      "metadata": {
        "id": "ZCjpt2Fi0c68",
        "colab_type": "text"
      },
      "source": [
        "En este caso vemos cómo usar dos contadores en el ciclo, uno (`i`) para poder detenerlo cuando se haya obtenido el veinteavo número divisible entre 4, y otro (`j`) para movernos entre los números mayores a `1` y revisar cuáles de ellos son divisibles entre 4."
      ]
    },
    {
      "cell_type": "markdown",
      "metadata": {
        "id": "nRoOXy3g0c68",
        "colab_type": "text"
      },
      "source": [
        "## Problemas"
      ]
    },
    {
      "cell_type": "markdown",
      "metadata": {
        "id": "P-07RDjP0c69",
        "colab_type": "text"
      },
      "source": [
        "### Problema 1\n",
        "\n",
        "Definir una función `cuenta_atras(n)` que tome un número entero `n` e imprima todos los números desde `n` hasta `1` usando un ciclo `while`. Además, después de imprimir `1`, debe imprimir `Este es el fin!`."
      ]
    },
    {
      "cell_type": "code",
      "metadata": {
        "id": "OYXA4fid0c69",
        "colab_type": "code",
        "colab": {}
      },
      "source": [
        "# Escribir la solución aquí\n"
      ],
      "execution_count": 0,
      "outputs": []
    },
    {
      "cell_type": "markdown",
      "metadata": {
        "id": "LVe_PxTG0c6_",
        "colab_type": "text"
      },
      "source": [
        "### Problema 2\n",
        "\n",
        "Dada la siguiente cadena:\n",
        "\n",
        "```python\n",
        "s = \"jhkdaskduwqludhlasdklashdihlasdhljakhuekysbvjkasdhlasdkhlashkdedlahskdlkbasmndkm\"\n",
        "```\n",
        "\n",
        "Imprimir en qué posiciones se encuentra la letra ``k``, usando un ciclo `while`.\n",
        "\n",
        "*Respuesta*:\n",
        "    \n",
        "    2, 6, 19, 35, 39, 45, 54, 60, 68, 71, 78"
      ]
    },
    {
      "cell_type": "code",
      "metadata": {
        "id": "x066kPnm0c7A",
        "colab_type": "code",
        "colab": {}
      },
      "source": [
        "# Escribir la solución aquí\n"
      ],
      "execution_count": 0,
      "outputs": []
    },
    {
      "cell_type": "markdown",
      "metadata": {
        "id": "duiKogYO0c7B",
        "colab_type": "text"
      },
      "source": [
        "### Problema 3\n",
        "\n",
        "Utilizar la función `es_primo_veloz` para definir una función `lista_de_primos(n)` que genere la lista de los `n` primeros números primos. Para que puedan comparar, a continuación aparece la lista de los 20 primeros:\n",
        "\n",
        "```python\n",
        "lista_de_primos(20)\n",
        "[2, 3, 5, 7, 11, 13, 17, 19, 23, 29, 31, 37, 41, 43, 47, 53, 59, 61, 67, 71]\n",
        "```\n",
        "\n",
        "**Nota**:\n",
        "\n",
        "Definir una lista vacía y utilizar su método `append` para añadirle los números primos que vayamos encontrando."
      ]
    },
    {
      "cell_type": "code",
      "metadata": {
        "id": "f177-itV0c7C",
        "colab_type": "code",
        "colab": {}
      },
      "source": [
        "# Escribir la solución aquí\n"
      ],
      "execution_count": 0,
      "outputs": []
    },
    {
      "cell_type": "markdown",
      "metadata": {
        "id": "2pp1WuHE0c7E",
        "colab_type": "text"
      },
      "source": [
        "### Problema 4\n",
        "\n",
        "Usar la función `digitos`, definida en el Problema 3. de la sección anterior, para encontrar el primer número de 4 cifras que sea divisible entre 8 y cuya primera y última cifras sean iguales.\n",
        "\n",
        "*Respuesta*:\n",
        "\n",
        "    2032\n",
        "\n",
        "**Nota**:\n",
        "\n",
        "Definir dos contadores: uno que empiece en `1000` para ir revisando todos los números de 4 cifras, y otro para detener el ciclo `while` tan pronto se encuentre el primer número que cumpla la condición deseada."
      ]
    },
    {
      "cell_type": "code",
      "metadata": {
        "id": "RPSY08-I0c7E",
        "colab_type": "code",
        "colab": {}
      },
      "source": [
        "# Escribir la solución aquí\n"
      ],
      "execution_count": 0,
      "outputs": []
    }
  ]
}